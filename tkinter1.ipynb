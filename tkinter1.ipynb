{
 "cells": [
  {
   "cell_type": "code",
   "execution_count": 63,
   "id": "bbaba70b-9eda-433d-8a3e-67385f83701d",
   "metadata": {},
   "outputs": [],
   "source": [
    "from tkinter import *\n",
    "from tkinter import messagebox"
   ]
  },
  {
   "cell_type": "code",
   "execution_count": 64,
   "id": "066f4751-2d8d-4b69-b7bf-df40ec185d80",
   "metadata": {},
   "outputs": [],
   "source": [
    "root=Tk()\n",
    "root.title(\"First ML Application\")\n",
    "root.geometry(\"800x400\")\n",
    "root.minsize(200,200)\n",
    "root.maxsize(1500,900)\n",
    "root.iconbitmap(\"images\\\\oc.ico\")\n",
    "root.configure(bg=\"lightblue\")\n"
   ]
  },
  {
   "cell_type": "code",
   "execution_count": 65,
   "id": "bef851fe-1820-44df-92de-4f9d9baf24a8",
   "metadata": {},
   "outputs": [],
   "source": [
    "label=Label(root,text=\"Welcome to Ovarian Cancer Detection App\",\n",
    "           font=(\"Arial\",20,\"bold\"),width=40,height=4,foreground=\"#0C359E\")\n",
    "label.pack(side=TOP)"
   ]
  },
  {
   "cell_type": "code",
   "execution_count": 66,
   "id": "0aa193b8-fd0c-4e71-8583-07596f9fdde7",
   "metadata": {},
   "outputs": [],
   "source": [
    "my_entry=Entry(root,width=30,font=(\"Arial\",14),borderwidth=3,bg=\"#F6F5F5\")\n",
    "my_entry.pack()"
   ]
  },
  {
   "cell_type": "code",
   "execution_count": 67,
   "id": "91ff5c06-5530-40d6-8b57-cfd9a64ebbf7",
   "metadata": {},
   "outputs": [],
   "source": [
    "def test():\n",
    "    messagebox.showinfo(\"Info\",\"Button Clicked\")"
   ]
  },
  {
   "cell_type": "code",
   "execution_count": 69,
   "id": "a5b47ad7-c5e7-417a-a8dd-d9456667728f",
   "metadata": {},
   "outputs": [],
   "source": [
    "my_button=Button(text=\"Click me!!!\",command=test)\n",
    "my_button.pack()"
   ]
  },
  {
   "cell_type": "code",
   "execution_count": null,
   "id": "dc64fbf3-2b19-444d-a8ce-e73b8b397092",
   "metadata": {},
   "outputs": [],
   "source": [
    "root.mainloop()"
   ]
  },
  {
   "cell_type": "code",
   "execution_count": null,
   "id": "ca8e19b2-71eb-492a-ac66-de2a647e1033",
   "metadata": {},
   "outputs": [],
   "source": []
  }
 ],
 "metadata": {
  "kernelspec": {
   "display_name": "Python 3 (ipykernel)",
   "language": "python",
   "name": "python3"
  },
  "language_info": {
   "codemirror_mode": {
    "name": "ipython",
    "version": 3
   },
   "file_extension": ".py",
   "mimetype": "text/x-python",
   "name": "python",
   "nbconvert_exporter": "python",
   "pygments_lexer": "ipython3",
   "version": "3.12.3"
  }
 },
 "nbformat": 4,
 "nbformat_minor": 5
}
