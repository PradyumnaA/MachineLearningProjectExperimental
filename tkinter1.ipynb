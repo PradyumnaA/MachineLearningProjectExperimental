{
 "cells": [
  {
   "cell_type": "code",
   "execution_count": 18,
   "id": "bbaba70b-9eda-433d-8a3e-67385f83701d",
   "metadata": {},
   "outputs": [],
   "source": [
    "from tkinter import *\n",
    "from tkinter import messagebox"
   ]
  },
  {
   "cell_type": "code",
   "execution_count": 19,
   "id": "066f4751-2d8d-4b69-b7bf-df40ec185d80",
   "metadata": {},
   "outputs": [],
   "source": [
    "root=Tk()\n",
    "root.title(\"First ML Application\")\n",
    "root.geometry(\"800x400\")\n",
    "root.minsize(200,200)\n",
    "root.maxsize(1500,900)\n",
    "root.iconbitmap(\"images\\\\oc.ico\")\n",
    "root.configure(bg=\"lightblue\")\n"
   ]
  },
  {
   "cell_type": "code",
   "execution_count": 20,
   "id": "bef851fe-1820-44df-92de-4f9d9baf24a8",
   "metadata": {},
   "outputs": [],
   "source": [
    "label=Label(root,text=\"Welcome to Ovarian Cancer Detection App\",\n",
    "           font=(\"Arial\",20,\"bold\"),width=40,height=4,foreground=\"#0C359E\")\n",
    "label.pack(side=TOP,pady=10)"
   ]
  },
  {
   "cell_type": "code",
   "execution_count": 21,
   "id": "0aa193b8-fd0c-4e71-8583-07596f9fdde7",
   "metadata": {},
   "outputs": [],
   "source": [
    "my_entry=Entry(root,width=30,font=(\"Arial\",14),borderwidth=3,bg=\"#F6F5F5\")\n",
    "my_entry.pack()"
   ]
  },
  {
   "cell_type": "code",
   "execution_count": 22,
   "id": "91ff5c06-5530-40d6-8b57-cfd9a64ebbf7",
   "metadata": {},
   "outputs": [],
   "source": [
    "def test():\n",
    "    messagebox.showerror(\"Info\",\"Button Clicked\")"
   ]
  },
  {
   "cell_type": "code",
   "execution_count": 23,
   "id": "a5b47ad7-c5e7-417a-a8dd-d9456667728f",
   "metadata": {},
   "outputs": [],
   "source": [
    "my_button=Button(text=\"Click me!!!\",command=test,bg=\"pink\",font=(\"Arial\",20,\"bold\"),\n",
    "                borderwidth=3,activebackground=\"blue\"\n",
    "                )\n",
    "my_button.pack(pady=20)\n"
   ]
  },
  {
   "cell_type": "code",
   "execution_count": 24,
   "id": "0134eb5a-d1ef-4af3-b8c3-a74fbc5e2288",
   "metadata": {},
   "outputs": [],
   "source": [
    "options=[\"Option 1\",\"Option 2\",\"Option 3\"]\n",
    "selected_option=StringVar()\n",
    "selected_option.set(options[0])"
   ]
  },
  {
   "cell_type": "code",
   "execution_count": 26,
   "id": "71cb1f13-a733-4ced-96e7-1d00aa0f06ab",
   "metadata": {},
   "outputs": [],
   "source": [
    "option_menu = OptionMenu(root, selected_option, *options)\n",
    "option_menu.configure(bg=\"green\", fg=\"white\", font=(\"Arial\", 12), width=15)\n",
    "option_menu.pack()"
   ]
  },
  {
   "cell_type": "code",
   "execution_count": 27,
   "id": "dc64fbf3-2b19-444d-a8ce-e73b8b397092",
   "metadata": {},
   "outputs": [],
   "source": [
    "root.mainloop()"
   ]
  },
  {
   "cell_type": "code",
   "execution_count": 28,
   "id": "ca8e19b2-71eb-492a-ac66-de2a647e1033",
   "metadata": {},
   "outputs": [
    {
     "name": "stdout",
     "output_type": "stream",
     "text": [
      "Collecting pillowNote: you may need to restart the kernel to use updated packages.\n",
      "\n",
      "  Downloading pillow-10.3.0-cp312-cp312-win_amd64.whl.metadata (9.4 kB)\n",
      "Downloading pillow-10.3.0-cp312-cp312-win_amd64.whl (2.5 MB)\n",
      "   ---------------------------------------- 0.0/2.5 MB ? eta -:--:--\n",
      "   ---------------------------------------- 0.0/2.5 MB ? eta -:--:--\n",
      "   ---------------------------------------- 0.0/2.5 MB ? eta -:--:--\n",
      "   ---------------------------------------- 0.0/2.5 MB 262.6 kB/s eta 0:00:10\n",
      "   ---------------------------------------- 0.0/2.5 MB 262.6 kB/s eta 0:00:10\n",
      "   ---------------------------------------- 0.0/2.5 MB 262.6 kB/s eta 0:00:10\n",
      "    --------------------------------------- 0.0/2.5 MB 140.3 kB/s eta 0:00:18\n",
      "    --------------------------------------- 0.0/2.5 MB 140.3 kB/s eta 0:00:18\n",
      "    --------------------------------------- 0.1/2.5 MB 192.5 kB/s eta 0:00:13\n",
      "   - -------------------------------------- 0.1/2.5 MB 238.1 kB/s eta 0:00:11\n",
      "   - -------------------------------------- 0.1/2.5 MB 273.1 kB/s eta 0:00:09\n",
      "   - -------------------------------------- 0.1/2.5 MB 276.8 kB/s eta 0:00:09\n",
      "   -- ------------------------------------- 0.1/2.5 MB 293.9 kB/s eta 0:00:09\n",
      "   -- ------------------------------------- 0.2/2.5 MB 327.7 kB/s eta 0:00:08\n",
      "   --- ------------------------------------ 0.2/2.5 MB 365.7 kB/s eta 0:00:07\n",
      "   --- ------------------------------------ 0.2/2.5 MB 372.0 kB/s eta 0:00:07\n",
      "   --- ------------------------------------ 0.2/2.5 MB 386.1 kB/s eta 0:00:06\n",
      "   ---- ----------------------------------- 0.3/2.5 MB 447.3 kB/s eta 0:00:05\n",
      "   ----- ---------------------------------- 0.4/2.5 MB 524.4 kB/s eta 0:00:05\n",
      "   ------ --------------------------------- 0.4/2.5 MB 555.4 kB/s eta 0:00:04\n",
      "   ------- -------------------------------- 0.5/2.5 MB 602.4 kB/s eta 0:00:04\n",
      "   ------- -------------------------------- 0.5/2.5 MB 602.4 kB/s eta 0:00:04\n",
      "   ------- -------------------------------- 0.5/2.5 MB 602.4 kB/s eta 0:00:04\n",
      "   -------- ------------------------------- 0.5/2.5 MB 587.1 kB/s eta 0:00:04\n",
      "   --------- ------------------------------ 0.6/2.5 MB 644.7 kB/s eta 0:00:03\n",
      "   ---------- ----------------------------- 0.7/2.5 MB 686.1 kB/s eta 0:00:03\n",
      "   ----------- ---------------------------- 0.7/2.5 MB 714.4 kB/s eta 0:00:03\n",
      "   ------------ --------------------------- 0.8/2.5 MB 750.4 kB/s eta 0:00:03\n",
      "   ------------- -------------------------- 0.8/2.5 MB 756.5 kB/s eta 0:00:03\n",
      "   -------------- ------------------------- 0.9/2.5 MB 780.8 kB/s eta 0:00:03\n",
      "   --------------- ------------------------ 1.0/2.5 MB 827.5 kB/s eta 0:00:02\n",
      "   ---------------- ----------------------- 1.1/2.5 MB 862.3 kB/s eta 0:00:02\n",
      "   ----------------- ---------------------- 1.1/2.5 MB 881.6 kB/s eta 0:00:02\n",
      "   ------------------- -------------------- 1.2/2.5 MB 928.1 kB/s eta 0:00:02\n",
      "   -------------------- ------------------- 1.3/2.5 MB 933.6 kB/s eta 0:00:02\n",
      "   --------------------- ------------------ 1.4/2.5 MB 960.7 kB/s eta 0:00:02\n",
      "   ---------------------- ----------------- 1.4/2.5 MB 982.7 kB/s eta 0:00:02\n",
      "   ----------------------- ---------------- 1.5/2.5 MB 1.0 MB/s eta 0:00:02\n",
      "   ------------------------ --------------- 1.6/2.5 MB 1.0 MB/s eta 0:00:01\n",
      "   -------------------------- ------------- 1.6/2.5 MB 1.0 MB/s eta 0:00:01\n",
      "   --------------------------- ------------ 1.7/2.5 MB 1.1 MB/s eta 0:00:01\n",
      "   ---------------------------- ----------- 1.8/2.5 MB 1.1 MB/s eta 0:00:01\n",
      "   ----------------------------- ---------- 1.9/2.5 MB 1.1 MB/s eta 0:00:01\n",
      "   ------------------------------ --------- 2.0/2.5 MB 1.1 MB/s eta 0:00:01\n",
      "   -------------------------------- ------- 2.0/2.5 MB 1.2 MB/s eta 0:00:01\n",
      "   --------------------------------- ------ 2.1/2.5 MB 1.2 MB/s eta 0:00:01\n",
      "   ---------------------------------- ----- 2.2/2.5 MB 1.2 MB/s eta 0:00:01\n",
      "   ----------------------------------- ---- 2.2/2.5 MB 1.2 MB/s eta 0:00:01\n",
      "   ------------------------------------ --- 2.3/2.5 MB 1.2 MB/s eta 0:00:01\n",
      "   -------------------------------------- - 2.4/2.5 MB 1.2 MB/s eta 0:00:01\n",
      "   ---------------------------------------  2.5/2.5 MB 1.2 MB/s eta 0:00:01\n",
      "   ---------------------------------------  2.5/2.5 MB 1.2 MB/s eta 0:00:01\n",
      "   ---------------------------------------- 2.5/2.5 MB 1.2 MB/s eta 0:00:00\n",
      "Installing collected packages: pillow\n",
      "Successfully installed pillow-10.3.0\n"
     ]
    }
   ],
   "source": [
    "pip install pillow"
   ]
  },
  {
   "cell_type": "code",
   "execution_count": null,
   "id": "79706c16-21dd-4fa5-8fb0-ce4dea758d33",
   "metadata": {},
   "outputs": [],
   "source": []
  },
  {
   "cell_type": "code",
   "execution_count": null,
   "id": "a36e56a3-902e-4e0a-bf53-8fa82b41b1c1",
   "metadata": {},
   "outputs": [],
   "source": []
  }
 ],
 "metadata": {
  "kernelspec": {
   "display_name": "Python 3 (ipykernel)",
   "language": "python",
   "name": "python3"
  },
  "language_info": {
   "codemirror_mode": {
    "name": "ipython",
    "version": 3
   },
   "file_extension": ".py",
   "mimetype": "text/x-python",
   "name": "python",
   "nbconvert_exporter": "python",
   "pygments_lexer": "ipython3",
   "version": "3.12.3"
  }
 },
 "nbformat": 4,
 "nbformat_minor": 5
}
