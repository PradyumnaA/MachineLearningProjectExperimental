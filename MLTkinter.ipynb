{
 "cells": [
  {
   "cell_type": "code",
   "execution_count": null,
   "id": "d5531aa9-18d8-4cab-b495-65aebc56b600",
   "metadata": {},
   "outputs": [],
   "source": [
    "from tkinter import *\n",
    "import joblib\n",
    "import pandas as pd\n",
    "from sklearn.datasets import load_iris\n",
    "from sklearn.tree import DecisionTreeClassifier\n",
    "from tkinter import messagebox\n",
    "\n",
    "# Load iris dataset and train the model\n",
    "iris = load_iris()\n",
    "X = iris.data\n",
    "y = iris.target\n",
    "model = DecisionTreeClassifier()\n",
    "model.fit(X, y)\n",
    "joblib.dump(model, \"iris_model.joblib\")\n",
    "\n",
    "# Load column names from CSV file\n",
    "csv_file = 'data/Iris.csv'  # Path to your CSV file\n",
    "df = pd.read_csv(csv_file)\n",
    "column_names = df.columns.tolist()\n",
    "\n",
    "# Exclude the last column \"species\"\n",
    "input_columns = column_names[1:-1]\n",
    "\n",
    "# Initialize Tkinter root\n",
    "root = Tk()\n",
    "root.title(\"Iris Flower Predictor\")\n",
    "root.geometry(\"600x200\")\n",
    "root.config(bg=\"lightblue\")\n",
    "\n",
    "# Header label\n",
    "header = Label(root, text=\"Iris Flower Predictor\", bg=\"lightblue\",\n",
    "               foreground=\"black\", font=(\"Arial\", 15, \"bold\"))\n",
    "header.pack()\n",
    "\n",
    "# Frame for input fields\n",
    "frame1 = Frame(root, bg=\"lightblue\")\n",
    "frame1.pack()\n",
    "\n",
    "# Dynamic creation of input fields based on column names, excluding the last column\n",
    "entries = []\n",
    "for i, col_name in enumerate(input_columns):\n",
    "    label = Label(frame1, text=col_name, bg=\"lightblue\", foreground=\"black\",\n",
    "                  font=(\"Arial\", 15, \"bold\"))\n",
    "    label.grid(row=i//2, column=(i % 2) * 2, pady=10)\n",
    "    entry = Entry(frame1, width=10, font=(\"Arial\", 15, \"bold\"), bg=\"gray\", fg=\"white\",\n",
    "                  borderwidth=3)\n",
    "    entry.grid(row=i//2, column=(i % 2) * 2 + 1, pady=10)\n",
    "    entries.append(entry)\n",
    "\n",
    "# Label to display predicted species\n",
    "species_label = Label(root, text=\"\", bg=\"lightblue\", font=(\"Arial\", 15, \"bold\"))\n",
    "species_label.pack()\n",
    "\n",
    "# Function to predict species\n",
    "def predict_species():\n",
    "    model = joblib.load(\"iris_model.joblib\")\n",
    "    try:\n",
    "        # Read the input values from the entries\n",
    "        input_data = [float(entry.get()) for entry in entries]\n",
    "        pred = model.predict([input_data])\n",
    "        species_label.config(text=\"Predicted Species: \" + iris.target_names[pred[0]])\n",
    "    except ValueError:\n",
    "        messagebox.showerror(\"Input Error\", \"Please enter valid numeric values.\")\n",
    "\n",
    "# Predict button\n",
    "button = Button(text=\"Predict Species\", bg=\"green\", activebackground=\"blue\",\n",
    "                borderwidth=3, font=(\"Arial\", 15, \"bold\"), command=predict_species)\n",
    "button.pack()\n",
    "\n",
    "root.mainloop()\n"
   ]
  },
  {
   "cell_type": "code",
   "execution_count": 5,
   "id": "77babe4a-2ba5-47dd-bb6b-fbdb16535594",
   "metadata": {},
   "outputs": [
    {
     "name": "stdout",
     "output_type": "stream",
     "text": [
      "Collecting scikit-learn\n",
      "  Using cached scikit_learn-1.4.2-cp312-cp312-win_amd64.whl.metadata (11 kB)\n",
      "Collecting numpy>=1.19.5 (from scikit-learn)\n",
      "  Using cached numpy-1.26.4-cp312-cp312-win_amd64.whl.metadata (61 kB)\n",
      "Collecting scipy>=1.6.0 (from scikit-learn)\n",
      "  Using cached scipy-1.13.0-cp312-cp312-win_amd64.whl.metadata (60 kB)\n",
      "Requirement already satisfied: joblib>=1.2.0 in c:\\users\\pradc\\miniconda3\\envs\\frontendtk\\lib\\site-packages (from scikit-learn) (1.4.2)\n",
      "Collecting threadpoolctl>=2.0.0 (from scikit-learn)\n",
      "  Using cached threadpoolctl-3.5.0-py3-none-any.whl.metadata (13 kB)\n",
      "Using cached scikit_learn-1.4.2-cp312-cp312-win_amd64.whl (10.6 MB)\n",
      "Using cached numpy-1.26.4-cp312-cp312-win_amd64.whl (15.5 MB)\n",
      "Using cached scipy-1.13.0-cp312-cp312-win_amd64.whl (45.9 MB)\n",
      "Using cached threadpoolctl-3.5.0-py3-none-any.whl (18 kB)\n",
      "Installing collected packages: threadpoolctl, numpy, scipy, scikit-learn\n",
      "Successfully installed numpy-1.26.4 scikit-learn-1.4.2 scipy-1.13.0 threadpoolctl-3.5.0\n",
      "Note: you may need to restart the kernel to use updated packages.\n"
     ]
    }
   ],
   "source": [
    "pip install -U scikit-learn"
   ]
  },
  {
   "cell_type": "code",
   "execution_count": 8,
   "id": "b18f71d7-0dcb-4486-89e3-895854e8cf21",
   "metadata": {},
   "outputs": [
    {
     "name": "stdout",
     "output_type": "stream",
     "text": [
      "Collecting pandas\n",
      "  Using cached pandas-2.2.2-cp312-cp312-win_amd64.whl.metadata (19 kB)\n",
      "Requirement already satisfied: numpy>=1.26.0 in c:\\users\\pradc\\miniconda3\\envs\\frontendtk\\lib\\site-packages (from pandas) (1.26.4)\n",
      "Requirement already satisfied: python-dateutil>=2.8.2 in c:\\users\\pradc\\miniconda3\\envs\\frontendtk\\lib\\site-packages (from pandas) (2.9.0)\n",
      "Requirement already satisfied: pytz>=2020.1 in c:\\users\\pradc\\miniconda3\\envs\\frontendtk\\lib\\site-packages (from pandas) (2024.1)\n",
      "Collecting tzdata>=2022.7 (from pandas)\n",
      "  Using cached tzdata-2024.1-py2.py3-none-any.whl.metadata (1.4 kB)\n",
      "Requirement already satisfied: six>=1.5 in c:\\users\\pradc\\miniconda3\\envs\\frontendtk\\lib\\site-packages (from python-dateutil>=2.8.2->pandas) (1.16.0)\n",
      "Using cached pandas-2.2.2-cp312-cp312-win_amd64.whl (11.5 MB)\n",
      "Using cached tzdata-2024.1-py2.py3-none-any.whl (345 kB)\n",
      "Installing collected packages: tzdata, pandas\n",
      "Successfully installed pandas-2.2.2 tzdata-2024.1\n",
      "Note: you may need to restart the kernel to use updated packages.\n"
     ]
    }
   ],
   "source": [
    "pip install pandas"
   ]
  },
  {
   "cell_type": "code",
   "execution_count": null,
   "id": "2e3310b4-7d9b-4c8d-bebf-74c6762621a9",
   "metadata": {},
   "outputs": [],
   "source": []
  }
 ],
 "metadata": {
  "kernelspec": {
   "display_name": "Python 3 (ipykernel)",
   "language": "python",
   "name": "python3"
  },
  "language_info": {
   "codemirror_mode": {
    "name": "ipython",
    "version": 3
   },
   "file_extension": ".py",
   "mimetype": "text/x-python",
   "name": "python",
   "nbconvert_exporter": "python",
   "pygments_lexer": "ipython3",
   "version": "3.12.3"
  }
 },
 "nbformat": 4,
 "nbformat_minor": 5
}
